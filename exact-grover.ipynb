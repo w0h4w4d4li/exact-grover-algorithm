{
 "cells": [
  {
   "cell_type": "code",
   "execution_count": 77,
   "id": "3325c859-cbd8-4faf-ad3f-33c9ef4ddb98",
   "metadata": {},
   "outputs": [],
   "source": [
    "import numpy as np\n",
    "import pennylane as q"
   ]
  },
  {
   "cell_type": "code",
   "execution_count": 91,
   "id": "efaaff95-f089-45c9-94d7-bcd7388a2f71",
   "metadata": {},
   "outputs": [],
   "source": [
    "n_bits = 4\n",
    "query_register = list(range(n_bits))\n",
    "aux = [n_bits]\n",
    "all_wires = query_register + aux\n",
    "dev = q.device(\"default.qubit\", wires=all_wires)\n",
    "\n",
    "def oracle(combo):\n",
    "    for i, bit in enumerate(combo):\n",
    "        if bit == 0:\n",
    "            q.PauliX(wires=i)\n",
    "\n",
    "    q.ctrl(q.PhaseShift, control=[0, 1, 2])(np.pi, wires=3)\n",
    "\n",
    "    for i, bit in enumerate(combo):\n",
    "        if bit == 0:\n",
    "            q.PauliX(wires=i)"
   ]
  },
  {
   "cell_type": "code",
   "execution_count": 98,
   "id": "74b454da-ec6d-496c-9498-011e10ad0ed0",
   "metadata": {},
   "outputs": [],
   "source": [
    "def hadamard_transform(my_wires):\n",
    "    for wire in my_wires:\n",
    "        q.Hadamard(wires=wire)\n",
    "\n",
    "def diffusion():\n",
    "    hadamard_transform(query_register)\n",
    "    for i in range(n_bits):\n",
    "        q.PauliX(wires=i)\n",
    "    q.ctrl(q.PhaseShift, control=[0, 1, 2])(2.1951, wires=3)\n",
    "    for i in range(n_bits):\n",
    "        q.PauliX(wires=i)\n",
    "    hadamard_transform(query_register)"
   ]
  },
  {
   "cell_type": "code",
   "execution_count": 99,
   "id": "131541db-4f53-4fe4-a69b-e290f9f1ea07",
   "metadata": {},
   "outputs": [],
   "source": [
    "def grover_iter(combo, num_steps):\n",
    "    n_bits = len(combo)\n",
    "    query_register = list(range(n_bits))\n",
    "    aux = [n_bits]\n",
    "    all_wires = query_register + aux\n",
    "    dev = q.device(\"default.qubit\", wires=all_wires)\n",
    "\n",
    "    @q.qnode(dev)\n",
    "    def inner_circuit():\n",
    "        q.PauliX(wires=aux)\n",
    "        hadamard_transform(all_wires)\n",
    "        for _ in range(num_steps):\n",
    "            oracle(combo)\n",
    "            diffusion()\n",
    "        return q.probs(wires=query_register)\n",
    "\n",
    "    return inner_circuit()"
   ]
  },
  {
   "cell_type": "code",
   "execution_count": 103,
   "id": "2b69701b-457b-4dbe-9783-71453835dee4",
   "metadata": {},
   "outputs": [
    {
     "data": {
      "text/plain": [
       "array([0.04932727, 0.04932727, 0.04932727, 0.04932727, 0.04932727,\n",
       "       0.04932727, 0.04932727, 0.04932727, 0.04932727, 0.26009089,\n",
       "       0.04932727, 0.04932727, 0.04932727, 0.04932727, 0.04932727,\n",
       "       0.04932727])"
      ]
     },
     "execution_count": 103,
     "metadata": {},
     "output_type": "execute_result"
    }
   ],
   "source": [
    "grover_iter([1,0,0,1], 3)"
   ]
  },
  {
   "cell_type": "code",
   "execution_count": null,
   "id": "fb5bd83b-3ed5-4bd5-a69f-2e6bc1c8101a",
   "metadata": {},
   "outputs": [],
   "source": []
  }
 ],
 "metadata": {
  "kernelspec": {
   "display_name": "Python 3 (ipykernel)",
   "language": "python",
   "name": "python3"
  },
  "language_info": {
   "codemirror_mode": {
    "name": "ipython",
    "version": 3
   },
   "file_extension": ".py",
   "mimetype": "text/x-python",
   "name": "python",
   "nbconvert_exporter": "python",
   "pygments_lexer": "ipython3",
   "version": "3.12.3"
  }
 },
 "nbformat": 4,
 "nbformat_minor": 5
}
